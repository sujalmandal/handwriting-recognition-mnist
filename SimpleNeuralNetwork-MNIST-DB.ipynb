{
 "cells": [
  {
   "cell_type": "code",
   "execution_count": null,
   "metadata": {},
   "outputs": [],
   "source": [
    "import keras\n",
    "from keras.datasets import mnist\n",
    "from keras.models import Sequential\n",
    "from keras.layers import Dense\n",
    "from keras.layers import Dropout\n",
    "from keras.layers import Flatten\n",
    "from keras.layers.convolutional import Convolution2D\n",
    "from keras.layers.convolutional import MaxPooling2D\n",
    "from keras.utils import to_categorical\n",
    "from keras import backend as K\n",
    "import numpy\n",
    "import pandas as pd\n",
    "import matplotlib.pyplot as plt\n",
    "import datetime\n",
    "\n",
    "\n",
    "#download mnist database\n",
    "(x_train, y_train), (x_test,y_test) = mnist.load_data()\n",
    "print(x_train.shape)\n",
    "print(x_test.shape)\n",
    "\n",
    "print(y_train.shape)\n",
    "print(y_test.shape)\n",
    "\n",
    "#show samples\n",
    "rows=2\n",
    "cols=3\n",
    "plt.subplots_adjust(wspace=0.5,hspace=0.5)\n",
    "#show samples as images\n",
    "for i in range(rows*cols):\n",
    "    fig=plt.subplot(rows,cols,i+1)\n",
    "    plt.imshow(x_train[i],cmap=plt.get_cmap(\"gray\"))\n",
    "    fig.title.set_text(\"digit=\"+str(y_train[i]))\n",
    "    \n",
    "#normalize the values\n",
    "x_train/255\n",
    "x_test/255\n",
    "    \n",
    "#simple neural network with one hidden layer\n",
    "simpleNN=Sequential([Flatten(input_shape=(28,28)),\n",
    "                    Dense(3000, activation='relu'),\n",
    "                    Dense(1000, activation='relu'),\n",
    "                    Dense(10, activation='sigmoid')])\n",
    "\n",
    "simpleNN.compile(optimizer='SGD',\n",
    "                loss='sparse_categorical_crossentropy',\n",
    "                metrics=['accuracy'])\n",
    "\n",
    "simpleNN.fit(x_train,y_train,epochs=5)\n",
    "\n",
    "\n",
    "\n",
    "#evaluate simple NN\n",
    "simpleNN.evaluate(x_test,y_test)"
   ]
  }
 ],
 "metadata": {
  "kernelspec": {
   "display_name": "Python 3",
   "language": "python",
   "name": "python3"
  },
  "language_info": {
   "codemirror_mode": {
    "name": "ipython",
    "version": 3
   },
   "file_extension": ".py",
   "mimetype": "text/x-python",
   "name": "python",
   "nbconvert_exporter": "python",
   "pygments_lexer": "ipython3",
   "version": "3.8.3"
  }
 },
 "nbformat": 4,
 "nbformat_minor": 4
}
